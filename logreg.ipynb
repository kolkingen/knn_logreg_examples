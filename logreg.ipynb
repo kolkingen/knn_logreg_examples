{
 "cells": [
  {
   "cell_type": "markdown",
   "metadata": {
    "id": "Q7ytv2GMjpGZ"
   },
   "source": [
    "# Логистическая регрессия - исследование и оценка метода"
   ]
  },
  {
   "cell_type": "markdown",
   "metadata": {},
   "source": [
    "**Цели работы**: предсказать склонность клиента откликнуться на предложение банка c помощью модели логистической регрессии, выбрать порог предсказания и гиперпараметры модели; сравнить работу этой модели с методом k-ближайших соседей.  \n",
    "\n",
    "Один из способов повысить эффективность взаимодействия банка с клиентами — отправлять предложение о новой услуге не всем клиентам, а только некоторым, которые выбираются по принципу наибольшей склонности к отклику на это предложение. Цель заключается в том, чтобы создать алгоритм, который будет выдавать склонность клиента к положительному или отрицательному отклику на предложение банка. Предполагается, что, получив такие оценки для некоторого множества клиентов, банк обратится с предложением только к тем, от кого ожидается положительный отклик.  \n"
   ]
  },
  {
   "cell_type": "markdown",
   "metadata": {
    "id": "Sj3n0n38nEfs"
   },
   "source": [
    "**Задачи работы**:  \n",
    "*  Загрузить данные для задачи.  \n",
    "*  Обучить метод ближайших соседей с заданным количеством соседей `k = 9`, вычислить метрики.  \n",
    "*  Обучить логистическую регрессию с параметрами по умолчанию, вычислить метрики.  \n",
    "*  Подобрать порог модели, вычислить метрики.  \n",
    "*  Подобрать гиперпараметр `С` (константа регуляризации) модели, вычислить метрики.  "
   ]
  },
  {
   "cell_type": "markdown",
   "metadata": {
    "id": "3HYLpuwA6dAw"
   },
   "source": [
    "**Описание данных**: информация находится в файле `database.dump`, который представляет собой резервную копию базы данных `PostgreSQL`, эта база данных хранит информацию о клиентах банка и их персональные данные, такие как пол, количество детей и другие.  \n",
    "Необходимые данные:\n",
    "1. `AGREEMENT_RK`, `TARGET` из таблицы `d_agreement`.  \n",
    "2. `AGE`, `SOCSTATUS_WORK_FL`, `SOCSTATUS_PENS_FL`, `GENDER`, `CHILD_TOTAL`, `DEPENDANTS` из таблицы `d_clients`.  \n",
    "3. `PERSONAL_INCOME` из таблицы `d_salary`.  \n",
    "4. `LOAN_NUM_TOTAL`, `LOAN_NUM_CLOSED` из таблиц `d_loan` и `d_close_loan`.  "
   ]
  },
  {
   "cell_type": "markdown",
   "metadata": {},
   "source": [
    "## Подготовка  \n"
   ]
  },
  {
   "cell_type": "markdown",
   "metadata": {},
   "source": [
    "### Импорт библиотек  \n"
   ]
  },
  {
   "cell_type": "code",
   "execution_count": 30,
   "metadata": {
    "id": "aPDB2wP8jndz"
   },
   "outputs": [],
   "source": [
    "import itertools\n",
    "from typing import Union, List\n",
    "\n",
    "from psycopg2 import connect as pgsql_connect\n",
    "from psycopg2.extras import NamedTupleCursor\n",
    "\n",
    "import pandas as pd\n",
    "import numpy as np\n",
    "import numpy.typing as npt\n",
    "\n",
    "%matplotlib inline\n",
    "import matplotlib.pyplot as plt\n",
    "import seaborn as sns\n",
    "\n",
    "from sklearn.model_selection import train_test_split\n",
    "from sklearn.neighbors import KNeighborsClassifier\n",
    "from sklearn.linear_model import LogisticRegression\n",
    "from sklearn.metrics import confusion_matrix, precision_score, recall_score"
   ]
  },
  {
   "cell_type": "markdown",
   "metadata": {},
   "source": [
    "### Полезные функции  \n"
   ]
  },
  {
   "cell_type": "code",
   "execution_count": 31,
   "metadata": {},
   "outputs": [],
   "source": [
    "def plot_confusion_matrix(\n",
    "    y_true: npt.ArrayLike, \n",
    "    y_pred: npt.ArrayLike, \n",
    "    classes: Union[List[str], None] = None, \n",
    "    normalize: bool = False, \n",
    "    title: str = 'Confusion Matrix'\n",
    ") -> None:\n",
    "    \"\"\"Функция для отрисовки матрицы ошибок.\"\"\"\n",
    "    \n",
    "    matrix = confusion_matrix(y_true, y_pred, normalize=('all' if normalize else None))\n",
    "\n",
    "    plt.imshow(matrix, interpolation='nearest', cmap=plt.cm.Blues)\n",
    "    plt.title(title)\n",
    "    plt.ylabel('True label')\n",
    "    plt.xlabel('Predicted label')\n",
    "    plt.colorbar()\n",
    "\n",
    "    classes = classes or range(len(matrix))\n",
    "    tick_marks = range(len(classes))\n",
    "    plt.xticks(tick_marks, classes)\n",
    "    plt.yticks(tick_marks, classes)\n",
    "    \n",
    "    fmt = '.2f' if normalize else 'd'\n",
    "    thresh = matrix.max() / 2\n",
    "    for i, j in itertools.product(range(matrix.shape[0]), range(matrix.shape[1])):\n",
    "        plt.text(j, i, format(matrix[i, j], fmt), \n",
    "                 horizontalalignment='center', \n",
    "                 color='white' if matrix[i, j] > thresh else 'black')\n"
   ]
  },
  {
   "cell_type": "markdown",
   "metadata": {},
   "source": [
    "### Получение данных  "
   ]
  },
  {
   "cell_type": "code",
   "execution_count": 32,
   "metadata": {},
   "outputs": [],
   "source": [
    "class PostgreSQLConnection:\n",
    "    \"\"\"Класс для подключения к базе данных PostgreSQL.\"\"\"\n",
    "\n",
    "    def __init__(self, dbname: str, user: str, password: str, host: str, port: str) -> None:\n",
    "        \"\"\"При инициализации класса необходимо задать данные для подключения к базе данных:  \n",
    "        * `host` и `port` - адрес и порт сервера;  \n",
    "        * `dbname` - название базы данных;  \n",
    "        * `user` и `password` - логин и пароль к базе данных.\n",
    "        \"\"\"\n",
    "        self.connection_parameters = {'host': host, 'port': port, 'dbname': dbname, \n",
    "                                      'user': user, 'password': password}\n",
    "    \n",
    "    def request(self, query: str) -> pd.DataFrame:\n",
    "        \"\"\"Выполняет запрос и возвращает результат в виде pandas.DataFrame.\"\"\"\n",
    "        with pgsql_connect(**self.connection_parameters) as connection:\n",
    "            with connection.cursor(cursor_factory=NamedTupleCursor) as cursor:\n",
    "                cursor.execute(query)\n",
    "                response = pd.DataFrame(cursor.fetchall())\n",
    "        return response"
   ]
  },
  {
   "cell_type": "code",
   "execution_count": 33,
   "metadata": {},
   "outputs": [],
   "source": [
    "query = '''\n",
    "    WITH loan_count AS (\n",
    "        SELECT \n",
    "            l.id_client, \n",
    "            COUNT(l.id_loan) AS loan_num_total, \n",
    "            SUM(cl.closed_fl) AS loan_num_closed\n",
    "        FROM d_loan AS l\n",
    "        LEFT JOIN d_close_loan AS cl\n",
    "            ON l.id_loan = cl.id_loan\n",
    "        GROUP BY l.id_client)\n",
    "\n",
    "    SELECT \n",
    "        a.agreement_rk, \n",
    "        a.target, \n",
    "        c.age, \n",
    "        c.socstatus_work_fl, \n",
    "        c.socstatus_pens_fl, \n",
    "        c.gender, \n",
    "        c.child_total, \n",
    "        c.dependants, \n",
    "        s.personal_income, \n",
    "        l.loan_num_total, \n",
    "        l.loan_num_closed\n",
    "    \n",
    "    FROM d_agreement AS a\n",
    "    LEFT JOIN d_clients AS c\n",
    "        ON a.id_client = c.id\n",
    "    LEFT JOIN d_salary AS s\n",
    "        ON a.id_client = s.id_client\n",
    "    LEFT JOIN loan_count AS l\n",
    "        ON a.id_client = l.id_client\n",
    "'''\n",
    "\n",
    "database = PostgreSQLConnection(dbname='postgres', user='postgres', password='1234', host='127.0.0.1', port='5432')\n",
    "data = database.request(query).set_index('agreement_rk')"
   ]
  },
  {
   "cell_type": "markdown",
   "metadata": {},
   "source": [
    "## Анализ и подготовка данных  \n"
   ]
  },
  {
   "cell_type": "markdown",
   "metadata": {},
   "source": [
    "### Общая информация  \n"
   ]
  },
  {
   "cell_type": "code",
   "execution_count": 34,
   "metadata": {},
   "outputs": [
    {
     "name": "stdout",
     "output_type": "stream",
     "text": [
      "data.shape = (15523, 10)\n"
     ]
    },
    {
     "data": {
      "text/html": [
       "<div>\n",
       "<style scoped>\n",
       "    .dataframe tbody tr th:only-of-type {\n",
       "        vertical-align: middle;\n",
       "    }\n",
       "\n",
       "    .dataframe tbody tr th {\n",
       "        vertical-align: top;\n",
       "    }\n",
       "\n",
       "    .dataframe thead th {\n",
       "        text-align: right;\n",
       "    }\n",
       "</style>\n",
       "<table border=\"1\" class=\"dataframe\">\n",
       "  <thead>\n",
       "    <tr style=\"text-align: right;\">\n",
       "      <th></th>\n",
       "      <th>target</th>\n",
       "      <th>age</th>\n",
       "      <th>socstatus_work_fl</th>\n",
       "      <th>socstatus_pens_fl</th>\n",
       "      <th>gender</th>\n",
       "      <th>child_total</th>\n",
       "      <th>dependants</th>\n",
       "      <th>personal_income</th>\n",
       "      <th>loan_num_total</th>\n",
       "      <th>loan_num_closed</th>\n",
       "    </tr>\n",
       "    <tr>\n",
       "      <th>agreement_rk</th>\n",
       "      <th></th>\n",
       "      <th></th>\n",
       "      <th></th>\n",
       "      <th></th>\n",
       "      <th></th>\n",
       "      <th></th>\n",
       "      <th></th>\n",
       "      <th></th>\n",
       "      <th></th>\n",
       "      <th></th>\n",
       "    </tr>\n",
       "  </thead>\n",
       "  <tbody>\n",
       "    <tr>\n",
       "      <th>62246916</th>\n",
       "      <td>0</td>\n",
       "      <td>42</td>\n",
       "      <td>2</td>\n",
       "      <td>1</td>\n",
       "      <td>0</td>\n",
       "      <td>0</td>\n",
       "      <td>0</td>\n",
       "      <td>20000.0</td>\n",
       "      <td>1</td>\n",
       "      <td>0</td>\n",
       "    </tr>\n",
       "    <tr>\n",
       "      <th>67011502</th>\n",
       "      <td>0</td>\n",
       "      <td>24</td>\n",
       "      <td>2</td>\n",
       "      <td>1</td>\n",
       "      <td>1</td>\n",
       "      <td>0</td>\n",
       "      <td>0</td>\n",
       "      <td>14000.0</td>\n",
       "      <td>1</td>\n",
       "      <td>1</td>\n",
       "    </tr>\n",
       "    <tr>\n",
       "      <th>63918955</th>\n",
       "      <td>0</td>\n",
       "      <td>28</td>\n",
       "      <td>2</td>\n",
       "      <td>1</td>\n",
       "      <td>0</td>\n",
       "      <td>0</td>\n",
       "      <td>0</td>\n",
       "      <td>15000.0</td>\n",
       "      <td>1</td>\n",
       "      <td>0</td>\n",
       "    </tr>\n",
       "    <tr>\n",
       "      <th>63633352</th>\n",
       "      <td>0</td>\n",
       "      <td>33</td>\n",
       "      <td>2</td>\n",
       "      <td>1</td>\n",
       "      <td>0</td>\n",
       "      <td>0</td>\n",
       "      <td>0</td>\n",
       "      <td>20000.0</td>\n",
       "      <td>1</td>\n",
       "      <td>1</td>\n",
       "    </tr>\n",
       "    <tr>\n",
       "      <th>62024377</th>\n",
       "      <td>0</td>\n",
       "      <td>47</td>\n",
       "      <td>2</td>\n",
       "      <td>1</td>\n",
       "      <td>1</td>\n",
       "      <td>2</td>\n",
       "      <td>0</td>\n",
       "      <td>25000.0</td>\n",
       "      <td>1</td>\n",
       "      <td>0</td>\n",
       "    </tr>\n",
       "  </tbody>\n",
       "</table>\n",
       "</div>"
      ],
      "text/plain": [
       "             target age socstatus_work_fl socstatus_pens_fl gender  \\\n",
       "agreement_rk                                                         \n",
       "62246916          0  42                 2                 1      0   \n",
       "67011502          0  24                 2                 1      1   \n",
       "63918955          0  28                 2                 1      0   \n",
       "63633352          0  33                 2                 1      0   \n",
       "62024377          0  47                 2                 1      1   \n",
       "\n",
       "             child_total dependants personal_income  loan_num_total  \\\n",
       "agreement_rk                                                          \n",
       "62246916               0          0         20000.0               1   \n",
       "67011502               0          0         14000.0               1   \n",
       "63918955               0          0         15000.0               1   \n",
       "63633352               0          0         20000.0               1   \n",
       "62024377               2          0         25000.0               1   \n",
       "\n",
       "             loan_num_closed  \n",
       "agreement_rk                  \n",
       "62246916                   0  \n",
       "67011502                   1  \n",
       "63918955                   0  \n",
       "63633352                   1  \n",
       "62024377                   0  "
      ]
     },
     "execution_count": 34,
     "metadata": {},
     "output_type": "execute_result"
    }
   ],
   "source": [
    "print(f'data.shape = {data.shape}')\n",
    "data.head()"
   ]
  },
  {
   "cell_type": "code",
   "execution_count": 35,
   "metadata": {},
   "outputs": [
    {
     "name": "stdout",
     "output_type": "stream",
     "text": [
      "<class 'pandas.core.frame.DataFrame'>\n",
      "Index: 15523 entries, 62246916 to 61847017\n",
      "Data columns (total 10 columns):\n",
      " #   Column             Non-Null Count  Dtype \n",
      "---  ------             --------------  ----- \n",
      " 0   target             15523 non-null  object\n",
      " 1   age                15523 non-null  object\n",
      " 2   socstatus_work_fl  15523 non-null  object\n",
      " 3   socstatus_pens_fl  15523 non-null  object\n",
      " 4   gender             15523 non-null  object\n",
      " 5   child_total        15523 non-null  object\n",
      " 6   dependants         15523 non-null  object\n",
      " 7   personal_income    15523 non-null  object\n",
      " 8   loan_num_total     15523 non-null  int64 \n",
      " 9   loan_num_closed    15523 non-null  object\n",
      "dtypes: int64(1), object(9)\n",
      "memory usage: 1.3+ MB\n"
     ]
    }
   ],
   "source": [
    "data.info()"
   ]
  },
  {
   "cell_type": "code",
   "execution_count": 36,
   "metadata": {},
   "outputs": [
    {
     "data": {
      "text/plain": [
       "0    0.880629\n",
       "1    0.119371\n",
       "Name: target, dtype: float64"
      ]
     },
     "execution_count": 36,
     "metadata": {},
     "output_type": "execute_result"
    }
   ],
   "source": [
    "data['target'].value_counts(dropna=False, normalize=True)"
   ]
  },
  {
   "cell_type": "code",
   "execution_count": 37,
   "metadata": {},
   "outputs": [],
   "source": [
    "# Приведение типов \n",
    "data = data.astype(int)"
   ]
  },
  {
   "cell_type": "markdown",
   "metadata": {},
   "source": [
    "### Разбиение датасета  \n",
    "\n",
    "В этом ноутбуке нам придётся подбирать гиперпараметры модели, а ещё порог. Поэтому, чтобы не переобучиться, разобъём данные на тренировочную, валидационную и тестовую части.\n",
    "\n",
    "*  Обучать модели будем на тренировочных данных.\n",
    "*  Подбирать необходимые величины — по валидации.\n",
    "*  Оценивать качество — на тесте."
   ]
  },
  {
   "cell_type": "code",
   "execution_count": 38,
   "metadata": {
    "id": "bkG1LjB0s81d"
   },
   "outputs": [
    {
     "name": "stdout",
     "output_type": "stream",
     "text": [
      "Размер тренировочной выборки: (7606, 9), (7606,)\n",
      "Размер валидационной выборки: (3260, 9), (3260,)\n",
      "Размер тестовой выборки:      (4657, 9), (4657,)\n"
     ]
    }
   ],
   "source": [
    "X = data.copy()\n",
    "y = X.pop('target')\n",
    "\n",
    "X_train, X_test, y_train, y_test = train_test_split(X, y, train_size=0.7, random_state=123)\n",
    "X_train, X_valid, y_train, y_valid = train_test_split(X_train, y_train, train_size=0.7, random_state=123)\n",
    "\n",
    "print(f'Размер тренировочной выборки: {X_train.shape}, {y_train.shape}')\n",
    "print(f'Размер валидационной выборки: {X_valid.shape}, {y_valid.shape}')\n",
    "print(f'Размер тестовой выборки:      {X_test.shape}, {y_test.shape}')"
   ]
  },
  {
   "cell_type": "markdown",
   "metadata": {},
   "source": [
    "## Обучение моделей  \n"
   ]
  },
  {
   "cell_type": "markdown",
   "metadata": {},
   "source": [
    "### Метод k-ближайших соседей  \n",
    "\n",
    "Обучим на тренировочных данных kNN с `k = 9` и выведем матрицу ошибок, а также значение метрик `precision` и `recall` на тестовых данных.  "
   ]
  },
  {
   "cell_type": "code",
   "execution_count": 39,
   "metadata": {
    "id": "QzR_npzTj5OC"
   },
   "outputs": [],
   "source": [
    "knn = KNeighborsClassifier(n_neighbors=9)\n",
    "knn.fit(X_train, y_train);"
   ]
  },
  {
   "cell_type": "code",
   "execution_count": 40,
   "metadata": {},
   "outputs": [
    {
     "name": "stdout",
     "output_type": "stream",
     "text": [
      "Метрики метода ближайших соседей на тестовых данных:\n",
      "\tprecision = 0.13043478260869565\n",
      "\t   recall = 0.00528169014084507\n"
     ]
    },
    {
     "data": {
      "image/png": "[encoded data removed]",
      "text/plain": [
       "<Figure size 432x288 with 2 Axes>"
      ]
     },
     "metadata": {
      "needs_background": "light"
     },
     "output_type": "display_data"
    }
   ],
   "source": [
    "knn_predict = knn.predict(X_test)\n",
    "print(f'Метрики метода ближайших соседей на тестовых данных:')\n",
    "print(f'\\tprecision = {precision_score(y_test, knn_predict)}')\n",
    "print(f'\\t   recall = {recall_score(y_test, knn_predict)}')\n",
    "plot_confusion_matrix(y_test, knn_predict, title='kNN confusion matrix')"
   ]
  },
  {
   "cell_type": "markdown",
   "metadata": {},
   "source": [
    "**Выводы**:  \n",
    "* значение TN оказалось высоким скорее всего потому, что в данных наблюдается дисбаланс классов в пользу значения 0;  \n",
    "* значение TP - низкое, что говорит о плохой работе модели - она плохо находит клиентов, которые бы откликнулись на предложение;  \n",
    "* значения precision и recall низкие из-за низкого показателя TP.  "
   ]
  },
  {
   "cell_type": "markdown",
   "metadata": {},
   "source": [
    "### Логистическая регрессия  \n",
    "\n",
    "Обучим логистическую регрессию с параметрами по умолчанию и посмотрите на метрики: `confusion_matrix`, `precision` и `recall`.  \n"
   ]
  },
  {
   "cell_type": "code",
   "execution_count": 41,
   "metadata": {
    "id": "7tOX78zbrPHB"
   },
   "outputs": [],
   "source": [
    "logreg = LogisticRegression()\n",
    "logreg.fit(X_train, y_train);"
   ]
  },
  {
   "cell_type": "code",
   "execution_count": 42,
   "metadata": {},
   "outputs": [
    {
     "name": "stdout",
     "output_type": "stream",
     "text": [
      "Метрики логистической регрессии с параметрами по умолчанию:\n",
      "\tprecision = 0.0\n",
      "\t   recall = 0.0\n"
     ]
    },
    {
     "data": {
      "image/png": "[encoded data removed]",
      "text/plain": [
       "<Figure size 432x288 with 2 Axes>"
      ]
     },
     "metadata": {
      "needs_background": "light"
     },
     "output_type": "display_data"
    }
   ],
   "source": [
    "logreg_predict = logreg.predict(X_test)\n",
    "print(f'Метрики логистической регрессии с параметрами по умолчанию:')\n",
    "print(f'\\tprecision = {precision_score(y_test, logreg_predict)}')\n",
    "print(f'\\t   recall = {recall_score(y_test, logreg_predict)}')\n",
    "plot_confusion_matrix(y_test, logreg_predict, title='LogReg default confusion matrix')"
   ]
  },
  {
   "cell_type": "markdown",
   "metadata": {
    "id": "CvWGh7m9sTKM"
   },
   "source": [
    "Наша цель — найти как можно больше клиентов, которые откликнутся на предложение. А модель таких не находит. \n",
    "\n",
    "Мы помним, что метод `predict_proba` у логистической регрессии предсказывает математические (то есть корректные) вероятности классов. Предскажем вероятности классов с помощью обученной логистической регрессии на тестовых данных и выведем вероятности положительного класса для первых десяти объектов. \n",
    "\n",
    "**Вопрос**: Глядя на полученные вероятности, попробуйте объяснить, почему вы получили именно такую матрицу ошибок и такие значения точности с полноты.  \n",
    "**Ответ**: Практически для всех объектов вероятность положительного класса очень низкая, она не дотягивает до порога 0.5. Правильно определенных объектов (`TP`) с положительным классом нет. А так как значение `TP` участвует в расчете метрик `precision` и `recall`, то и они имеют нулевое значение."
   ]
  },
  {
   "cell_type": "code",
   "execution_count": 43,
   "metadata": {
    "id": "LNqjcxrwsLzl"
   },
   "outputs": [
    {
     "data": {
      "text/html": [
       "<div>\n",
       "<style scoped>\n",
       "    .dataframe tbody tr th:only-of-type {\n",
       "        vertical-align: middle;\n",
       "    }\n",
       "\n",
       "    .dataframe tbody tr th {\n",
       "        vertical-align: top;\n",
       "    }\n",
       "\n",
       "    .dataframe thead th {\n",
       "        text-align: right;\n",
       "    }\n",
       "</style>\n",
       "<table border=\"1\" class=\"dataframe\">\n",
       "  <thead>\n",
       "    <tr style=\"text-align: right;\">\n",
       "      <th></th>\n",
       "      <th>0_proba</th>\n",
       "      <th>1_proba</th>\n",
       "      <th>predicted_class</th>\n",
       "      <th>true_class</th>\n",
       "    </tr>\n",
       "    <tr>\n",
       "      <th>agreement_rk</th>\n",
       "      <th></th>\n",
       "      <th></th>\n",
       "      <th></th>\n",
       "      <th></th>\n",
       "    </tr>\n",
       "  </thead>\n",
       "  <tbody>\n",
       "    <tr>\n",
       "      <th>62375991</th>\n",
       "      <td>0.887095</td>\n",
       "      <td>0.112905</td>\n",
       "      <td>0</td>\n",
       "      <td>0</td>\n",
       "    </tr>\n",
       "    <tr>\n",
       "      <th>61441877</th>\n",
       "      <td>0.958940</td>\n",
       "      <td>0.041060</td>\n",
       "      <td>0</td>\n",
       "      <td>0</td>\n",
       "    </tr>\n",
       "    <tr>\n",
       "      <th>65411273</th>\n",
       "      <td>0.769467</td>\n",
       "      <td>0.230533</td>\n",
       "      <td>0</td>\n",
       "      <td>0</td>\n",
       "    </tr>\n",
       "    <tr>\n",
       "      <th>62263585</th>\n",
       "      <td>0.874015</td>\n",
       "      <td>0.125985</td>\n",
       "      <td>0</td>\n",
       "      <td>0</td>\n",
       "    </tr>\n",
       "    <tr>\n",
       "      <th>64552065</th>\n",
       "      <td>0.929162</td>\n",
       "      <td>0.070838</td>\n",
       "      <td>0</td>\n",
       "      <td>0</td>\n",
       "    </tr>\n",
       "    <tr>\n",
       "      <th>62138224</th>\n",
       "      <td>0.852717</td>\n",
       "      <td>0.147283</td>\n",
       "      <td>0</td>\n",
       "      <td>0</td>\n",
       "    </tr>\n",
       "    <tr>\n",
       "      <th>66583322</th>\n",
       "      <td>0.951900</td>\n",
       "      <td>0.048100</td>\n",
       "      <td>0</td>\n",
       "      <td>0</td>\n",
       "    </tr>\n",
       "    <tr>\n",
       "      <th>65419977</th>\n",
       "      <td>0.755791</td>\n",
       "      <td>0.244209</td>\n",
       "      <td>0</td>\n",
       "      <td>0</td>\n",
       "    </tr>\n",
       "    <tr>\n",
       "      <th>64445435</th>\n",
       "      <td>0.935100</td>\n",
       "      <td>0.064900</td>\n",
       "      <td>0</td>\n",
       "      <td>0</td>\n",
       "    </tr>\n",
       "    <tr>\n",
       "      <th>67176230</th>\n",
       "      <td>0.953561</td>\n",
       "      <td>0.046439</td>\n",
       "      <td>0</td>\n",
       "      <td>0</td>\n",
       "    </tr>\n",
       "  </tbody>\n",
       "</table>\n",
       "</div>"
      ],
      "text/plain": [
       "               0_proba   1_proba  predicted_class  true_class\n",
       "agreement_rk                                                 \n",
       "62375991      0.887095  0.112905                0           0\n",
       "61441877      0.958940  0.041060                0           0\n",
       "65411273      0.769467  0.230533                0           0\n",
       "62263585      0.874015  0.125985                0           0\n",
       "64552065      0.929162  0.070838                0           0\n",
       "62138224      0.852717  0.147283                0           0\n",
       "66583322      0.951900  0.048100                0           0\n",
       "65419977      0.755791  0.244209                0           0\n",
       "64445435      0.935100  0.064900                0           0\n",
       "67176230      0.953561  0.046439                0           0"
      ]
     },
     "execution_count": 43,
     "metadata": {},
     "output_type": "execute_result"
    }
   ],
   "source": [
    "logreg_probas = logreg.predict_proba(X_test)\n",
    "\n",
    "pd.DataFrame({'0_proba': logreg_probas[:10, 0], '1_proba': logreg_probas[:10, 1], \n",
    "              'predicted_class': logreg_predict[:10], 'true_class': y_test[:10]})"
   ]
  },
  {
   "cell_type": "markdown",
   "metadata": {},
   "source": [
    "### Подбор порога для предсказаний логистической регрессии  \n",
    "\n",
    "Уточним цель: Пусть нам нужно найти как можно больше клиентов, которые откликнутся на предложение, то есть максимизировать полноту (`recall`). При этом хочется, чтобы точность модели (`precision`) не была очень низкой. Заказчик посмотрел на результаты работы kNN и потребовал, чтобы точность была не ниже, чем у kNN: `precision` $\\geq$ 0.13.  \n",
    "\n",
    "Будем подбирать порог для перевода вероятности в классы по валидационной выборке, чтобы не переобучиться на тестовой."
   ]
  },
  {
   "cell_type": "code",
   "execution_count": 44,
   "metadata": {
    "id": "398pACpBtFi2"
   },
   "outputs": [
    {
     "name": "stdout",
     "output_type": "stream",
     "text": [
      "При пороге 0.05800000000000001 метрики имеют следующие значения:\n",
      "\tprecision = 0.13028828154249344\n",
      "\t   recall = 0.9230769230769231\n"
     ]
    }
   ],
   "source": [
    "valid_probas = logreg.predict_proba(X_valid)\n",
    "best_threshold, best_recall, best_precision = 0, 0, 0\n",
    "\n",
    "for threshold in np.arange(0.05, 1, 0.001):\n",
    "\n",
    "    predictions = (valid_probas[:, 1] > threshold).astype(int)\n",
    "    recall = recall_score(y_valid, predictions)\n",
    "    precision = precision_score(y_valid, predictions)\n",
    "    if precision >= 0.13 and recall > best_recall:\n",
    "        best_recall = recall\n",
    "        best_threshold = threshold\n",
    "        best_precision = precision\n",
    "\n",
    "print(f'При пороге {best_threshold} метрики имеют следующие значения:')\n",
    "print(f'\\tprecision = {best_precision}')\n",
    "print(f'\\t   recall = {best_recall}')"
   ]
  },
  {
   "cell_type": "code",
   "execution_count": 45,
   "metadata": {
    "id": "qpHv0DVwywKq"
   },
   "outputs": [
    {
     "name": "stdout",
     "output_type": "stream",
     "text": [
      "Метрики логистической регрессии с порогом 0.058:\n",
      "\tprecision = 0.1378579003181336\n",
      "\t   recall = 0.9154929577464789\n"
     ]
    },
    {
     "data": {
      "image/png": "[encoded data removed]",
      "text/plain": [
       "<Figure size 432x288 with 2 Axes>"
      ]
     },
     "metadata": {
      "needs_background": "light"
     },
     "output_type": "display_data"
    }
   ],
   "source": [
    "# Найдём тестовые метрики с этим порогом\n",
    "\n",
    "threshold = round(best_threshold, 4)\n",
    "predictions = (logreg_probas[:, 1] > threshold).astype(int)\n",
    "\n",
    "print(f'Метрики логистической регрессии с порогом {threshold}:')\n",
    "print(f'\\tprecision = {precision_score(y_test, predictions)}')\n",
    "print(f'\\t   recall = {recall_score(y_test, predictions)}')\n",
    "plot_confusion_matrix(y_test, predictions, title=f'LogReg threshold={threshold} confusion matrix')"
   ]
  },
  {
   "cell_type": "markdown",
   "metadata": {
    "id": "fLakCD5TwmDe"
   },
   "source": [
    "**Вопрос**: Сделайте вывод. Смогли ли мы с помощью подбора порога добиться большего значения `recall`, чем у KNN?  \n",
    "**Ответ**: С помощью подбора порога для перевода вероятности логистической регрессии в классы удалось увеличить значение полноты `recall` с 0.0053 (kNN) до 0.9155 (logreg with threshold=0.058), точность `precision` немного увеличилась с 0.1304 (kNN) до 0.1378 (logreg with threshold=0.058); в итоге полнота увеличилась значительно, а точность почти не изменилась, значит модель логистической регрессии с выбранным порогом работает куда лучше метода k-ближайших соседей."
   ]
  },
  {
   "cell_type": "markdown",
   "metadata": {},
   "source": [
    "### Подбор гиперпараметра C  \n",
    "\n",
    "Подберём значение гиперпараметра `C` для логистической регрессии. Для этого обучим модели с разными значениями `C` (0.05, 0.15, ..., 10.05) и для каждой подберём оптимальный порог для перевода вероятностей в классы.\n",
    "\n",
    "И найдём комбинацию `С` и порога такие, при которых полнота предсказаний модели максимальная, а точность не меньше 0.13.  \n"
   ]
  },
  {
   "cell_type": "code",
   "execution_count": 46,
   "metadata": {
    "id": "EhjmTEkhuT9S"
   },
   "outputs": [
    {
     "name": "stdout",
     "output_type": "stream",
     "text": [
      "Лучшая модель имеет следующие характеристики:\n",
      "best_C = 0.05\n",
      "best_threshold = 0.05800000000000001\n",
      "best_recall = 0.9230769230769231\n",
      "best_precision = 0.13028828154249344\n"
     ]
    }
   ],
   "source": [
    "best_C = 0\n",
    "best_threshold = 0\n",
    "best_recall = 0 \n",
    "best_precision = 0\n",
    "\n",
    "for C in np.arange(0.05, 10.1, 0.1):\n",
    "    \n",
    "    model = LogisticRegression(C=C)\n",
    "    model.fit(X_train, y_train)\n",
    "    valid_probas = model.predict_proba(X_valid)\n",
    "\n",
    "    for threshold in np.arange(0.05, 0.25, 0.001):\n",
    "\n",
    "        predictions = (valid_probas[:, 1] > threshold).astype(int)\n",
    "        recall = recall_score(y_valid, predictions)\n",
    "        precision = precision_score(y_valid, predictions)\n",
    "        if precision >= 0.13 and recall > best_recall:\n",
    "            best_C = C\n",
    "            best_recall = recall\n",
    "            best_threshold = threshold\n",
    "            best_precision = precision\n",
    "\n",
    "print('Лучшая модель имеет следующие характеристики:')\n",
    "print(f'best_C = {best_C}')\n",
    "print(f'best_threshold = {best_threshold}')\n",
    "print(f'best_recall = {best_recall}')\n",
    "print(f'best_precision = {best_precision}')"
   ]
  },
  {
   "cell_type": "code",
   "execution_count": 47,
   "metadata": {
    "id": "rQLQZ1bg4BGy"
   },
   "outputs": [
    {
     "name": "stdout",
     "output_type": "stream",
     "text": [
      "Метрики логистической регрессии (C=0.05) с порогом 0.058:\n",
      "\tprecision = 0.1378579003181336\n",
      "\t   recall = 0.9154929577464789\n"
     ]
    },
    {
     "data": {
      "image/png": "[encoded data removed]",
      "text/plain": [
       "<Figure size 432x288 with 2 Axes>"
      ]
     },
     "metadata": {
      "needs_background": "light"
     },
     "output_type": "display_data"
    }
   ],
   "source": [
    "# Оценим лучшую модель на тестовых данных\n",
    "\n",
    "best_logreg = LogisticRegression(C=best_C)\n",
    "best_logreg.fit(X_train, y_train)\n",
    "\n",
    "threshold = round(best_threshold, 4)\n",
    "best_logreg_probas = best_logreg.predict_proba(X_test)\n",
    "predictions = (best_logreg_probas[:, 1] > threshold).astype(int)\n",
    "\n",
    "print(f'Метрики логистической регрессии (C={best_C}) с порогом {threshold}:')\n",
    "print(f'\\tprecision = {precision_score(y_test, predictions)}')\n",
    "print(f'\\t   recall = {recall_score(y_test, predictions)}')\n",
    "plot_confusion_matrix(y_test, predictions, title=f'LogReg(С={best_C}) threshold={threshold} confusion matrix')"
   ]
  },
  {
   "cell_type": "markdown",
   "metadata": {
    "id": "fwpx_UVS2DK_"
   },
   "source": [
    "**Вопрос**: Влияет ли изменение гиперпараметра C на качество модели (и, соответственно, метрики) в этой задаче?  \n",
    "**Ответ**: подбор гиперпараметра `C` не даёт значительных изменений метрик на тестовых данных, а значит говорить о важности гиперпараметра `C` в данной задаче нельзя."
   ]
  },
  {
   "cell_type": "markdown",
   "metadata": {
    "id": "BaCqlDx74pns"
   },
   "source": [
    "**Вопросы**:    \n",
    "1) Удалось ли при помощи логистической регрессии и подбора порога превзойти качество метода ближайших соседей в этой задаче?  \n",
    "2) Смогли ли мы при помощи этой модели получить высокий recall при ограничениях, поставленных заказчиком?  \n",
    "\n",
    "**Ответ**: При помощи логистической регрессии и подбора порога для перевода вероятности в классы удалось увеличить полноту предсказаний `recall` с 0.0053 у метода k-ближайших соседей до 0.9155 у логистической регрессии с порогом 0.058, хотя точность `precision` почти не изменилась (0.1304 у kNN, 0.1378 у logreg with threshold=0.058); в итоге полнота имеет высокое значение, а точность осталась в пределах ограничений заказчика, значит модель логистической регрессии с выбранным порогом превосходит модель k-ближайших соседей.  \n"
   ]
  }
 ],
 "metadata": {
  "colab": {
   "collapsed_sections": [],
   "provenance": []
  },
  "kernelspec": {
   "display_name": "Python 3 (ipykernel)",
   "language": "python",
   "name": "python3"
  },
  "language_info": {
   "codemirror_mode": {
    "name": "ipython",
    "version": 3
   },
   "file_extension": ".py",
   "mimetype": "text/x-python",
   "name": "python",
   "nbconvert_exporter": "python",
   "pygments_lexer": "ipython3",
   "version": "3.10.8"
  },
  "vscode": {
   "interpreter": {
    "hash": "e7370f93d1d0cde622a1f8e1c04877d8463912d04d973331ad4851f04de6915a"
   }
  }
 },
 "nbformat": 4,
 "nbformat_minor": 1
}
